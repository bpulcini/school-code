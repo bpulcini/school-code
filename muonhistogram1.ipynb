{
 "metadata": {
  "name": "muonhistogram1.ipynb"
 },
 "nbformat": 3,
 "nbformat_minor": 0,
 "worksheets": [
  {
   "cells": [
    {
     "cell_type": "code",
     "collapsed": false,
     "input": [
      "import muonhistogram as mh\n",
      "from scipy.optimize import curve_fit\n",
      "#%autoreload\n",
      "\n",
      "file='muondata1.txt'\n",
      "\n",
      "counts, bin_edges=mh.histvalues(file)\n",
      "plt.figure(figsize=(15,12), dpi=800)\n",
      "binsy=(bin_edges + 8)/409.6\n",
      "plt.plot(binsy, counts, '.', color='b', markersize=5)\n",
      "#plt.yscale('log')\n",
      "#print binsy/409.6\n",
      "\n",
      "for x in counts:\n",
      "    bin_errors = sqrt(counts)\n",
      "    \n",
      "#print bin_errors\n",
      "\n",
      "def f(x, a, b, c):\n",
      "    return np.abs(a) * np.exp(-x/b) + np.abs(c)\n",
      "\n",
      "#def f(x, a, b):\n",
      "#    return np.abs(a) * np.exp(-x/b) + (1.3/2)\n",
      "\n",
      "#def g(x, a, b):\n",
      "#    return a*x + b\n",
      "\n",
      "p_naught = [405, 2.11, 1.3]\n",
      "#p_naught = [400, 2]\n",
      "x_fit = np.arange(.332, 10, .001)\n",
      "#print x_fit\n",
      "popt, pcov = curve_fit(f, binsy, counts, sigma=bin_errors, p0=p_naught)\n",
      "print popt\n",
      "print pcov\n",
      "\n",
      "y_fit = f(x_fit, popt[0], popt[1], popt[2])\n",
      "#y_fit = f(x_fit, popt[0], popt[1])\n",
      "#print y_fit\n",
      "\n",
      "plt.plot(x_fit, y_fit)\n",
      "yerr = np.sqrt(counts)\n",
      "#print yerr\n",
      "plt.errorbar(binsy, counts, yerr=yerr)\n",
      "\n",
      "\n",
      "def chi_sq(opt, counter, bin1, y_err):\n",
      "    chi_2 = ((counter - f(bin1, opt[0], opt[1],opt[2]))**2/(y_err**2))\n",
      "    #chi_2 = ((counter - f(bin1, opt[0], opt[1]))**2/(y_err**2))\n",
      "    #print chi_2\n",
      "    return np.sum(chi_2)/(len(counter)-2)\n",
      "\n",
      "chi_sq(popt, counts, binsy, yerr)\n",
      "\n"
     ],
     "language": "python",
     "metadata": {},
     "outputs": [],
     "prompt_number": "*"
    },
    {
     "cell_type": "code",
     "collapsed": false,
     "input": [
      "x, y = np.loadtxt(file, usecols=(0,1), unpack=True)\n",
      "\n",
      "print np.sum(counts)"
     ],
     "language": "python",
     "metadata": {},
     "outputs": [
      {
       "output_type": "stream",
       "stream": "stdout",
       "text": [
        "19545\n"
       ]
      }
     ],
     "prompt_number": 26
    },
    {
     "cell_type": "code",
     "collapsed": false,
     "input": [
      "print 139.8/19545"
     ],
     "language": "python",
     "metadata": {},
     "outputs": [
      {
       "output_type": "stream",
       "stream": "stdout",
       "text": [
        "0.00715272448196\n"
       ]
      }
     ],
     "prompt_number": 27
    },
    {
     "cell_type": "code",
     "collapsed": false,
     "input": [
      "def tau_array(c):\n",
      "    i=0\n",
      "    while i<len(counts):\n",
      "        sig_N_naught = pcov[0,0] * (-(binsy[i]/409.6)/((c-counts[i]) * (np.log((popt[0])/(counts[i]-c)))**2))\n",
      "        sig_N = counts[i] * ((binsy[i]/409.6)/((counts[i]-c) * (np.log((popt[0])/(counts[i]-c)))**2))\n",
      "        i+=1\n",
      "    return sig_N_naught, sig_N\n",
      "\n",
      "sig_tau = tau_array(.65)\n",
      "\n",
      "print 'error on n0 = ', sig_tau[0]\n",
      "print 'error on n = ', sig_tau[1]\n",
      "print sqrt(sig_tau[0] + sig_tau[1])\n",
      "print sqrt(pcov[1,1])"
     ],
     "language": "python",
     "metadata": {},
     "outputs": [
      {
       "output_type": "stream",
       "stream": "stdout",
       "text": [
        "error on n0 =  0.00456786602302\n",
        "error on n =  0.00218797978161\n",
        "0.0821939523604\n",
        "0.0311451881949\n"
       ]
      }
     ],
     "prompt_number": 36
    },
    {
     "cell_type": "code",
     "collapsed": false,
     "input": [],
     "language": "python",
     "metadata": {},
     "outputs": []
    }
   ],
   "metadata": {}
  }
 ]
}